{
 "cells": [
  {
   "cell_type": "markdown",
   "id": "5712d10d",
   "metadata": {},
   "source": [
    "# Creating python based QR code generator"
   ]
  },
  {
   "cell_type": "markdown",
   "id": "d1c2a542",
   "metadata": {},
   "source": [
    "#### Importing Libraries "
   ]
  },
  {
   "cell_type": "code",
   "execution_count": 1,
   "id": "e9ccfd38",
   "metadata": {},
   "outputs": [],
   "source": [
    "import qrcode"
   ]
  },
  {
   "cell_type": "code",
   "execution_count": 3,
   "id": "f4a13d5d",
   "metadata": {},
   "outputs": [],
   "source": [
    "import matplotlib.pyplot as plt"
   ]
  },
  {
   "cell_type": "markdown",
   "id": "7d69d6ad",
   "metadata": {},
   "source": [
    "#### Adding data which i want to be QR representation"
   ]
  },
  {
   "cell_type": "code",
   "execution_count": 4,
   "id": "778e2522",
   "metadata": {},
   "outputs": [],
   "source": [
    "data = \"https://www.youtube.com/@CTU_INDIA\""
   ]
  },
  {
   "cell_type": "markdown",
   "id": "41c9c1cc",
   "metadata": {},
   "source": [
    "#### Assigning output file name"
   ]
  },
  {
   "cell_type": "code",
   "execution_count": 5,
   "id": "7b85efe1",
   "metadata": {},
   "outputs": [],
   "source": [
    "filename = \"My_QR_Code.png\""
   ]
  },
  {
   "cell_type": "markdown",
   "id": "da4f5469",
   "metadata": {},
   "source": [
    "#### Generating QR Code"
   ]
  },
  {
   "cell_type": "code",
   "execution_count": 6,
   "id": "8a607c0b",
   "metadata": {},
   "outputs": [],
   "source": [
    "image = qrcode.make(data)"
   ]
  },
  {
   "cell_type": "markdown",
   "id": "45d9df4d",
   "metadata": {},
   "source": [
    "#### Saving image in to a file  "
   ]
  },
  {
   "cell_type": "code",
   "execution_count": 8,
   "id": "d4a6ce3d",
   "metadata": {},
   "outputs": [
    {
     "data": {
      "text/plain": [
       "<matplotlib.image.AxesImage at 0x23bd4480050>"
      ]
     },
     "execution_count": 8,
     "metadata": {},
     "output_type": "execute_result"
    },
    {
     "data": {
      "image/png": "[encoded data removed]",
      "text/plain": [
       "<Figure size 640x480 with 1 Axes>"
      ]
     },
     "metadata": {},
     "output_type": "display_data"
    }
   ],
   "source": [
    "image.save(filename)\n",
    "plt.imshow(image,cmap='gray')"
   ]
  },
  {
   "cell_type": "markdown",
   "id": "12201fff",
   "metadata": {},
   "source": [
    "#### When scan that bar code it will automatically open cluster of told and untold youtube channel "
   ]
  }
 ],
 "metadata": {
  "kernelspec": {
   "display_name": "Python 3 (ipykernel)",
   "language": "python",
   "name": "python3"
  },
  "language_info": {
   "codemirror_mode": {
    "name": "ipython",
    "version": 3
   },
   "file_extension": ".py",
   "mimetype": "text/x-python",
   "name": "python",
   "nbconvert_exporter": "python",
   "pygments_lexer": "ipython3",
   "version": "3.11.0"
  }
 },
 "nbformat": 4,
 "nbformat_minor": 5
}
